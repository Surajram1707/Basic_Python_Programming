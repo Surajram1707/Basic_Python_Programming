{
 "cells": [
  {
   "cell_type": "markdown",
   "metadata": {},
   "source": [
    "<h3>Basic Programs:</h3>\n",
    "<ol>  \n",
    "    <li>Python program to add two numbers</li>\n",
    "<li>Maximum of two numbers in Python</li>\n",
    "<li>Python Program for factorial of a number</li>\n",
    "<li>Python Program for simple interest</li>\n",
    "<li>Python Program for compound interest</li>\n",
    "<li>Python Program to check Armstrong Number</li>\n",
    "<li>Python Program for Program to find area of a circle</li>\n",
    "<li>Python program to print all Prime numbers in an Interval</li>\n",
    "<li>Python program to check whether a number is Prime or not</li>\n",
    "<li>Python Program for n-th Fibonacci number</li>\n",
    "<li>Python Program for How to check if a given number is Fibonacci number?</li>\n",
    "<li>Python Program for n\\’th multiple of a number in Fibonacci Series</li>\n",
    "<li>Program to print ASCII Value of a character</li>\n",
    "<li>Python Program for Sum of squares of first n natural numbers</li>\n",
    "<li>Python Program for cube sum of first n natural numbers</li>\n",
    "</ol>"
   ]
  },
  {
   "cell_type": "markdown",
   "metadata": {},
   "source": [
    "<h4>1.</h4>"
   ]
  },
  {
   "cell_type": "code",
   "execution_count": 2,
   "metadata": {},
   "outputs": [
    {
     "name": "stdout",
     "output_type": "stream",
     "text": [
      "Enter a number10\n",
      "Enter another number20\n",
      "Sum = 30\n"
     ]
    }
   ],
   "source": [
    "a = int(input(\"Enter a number\"))\n",
    "b = int(input(\"Enter another number\"))\n",
    "sum1 = a+b\n",
    "print(\"Sum =\",sum1)"
   ]
  },
  {
   "cell_type": "markdown",
   "metadata": {},
   "source": [
    "<h4>2.</h4>"
   ]
  },
  {
   "cell_type": "code",
   "execution_count": 3,
   "metadata": {},
   "outputs": [
    {
     "name": "stdout",
     "output_type": "stream",
     "text": [
      "Enter a number200\n",
      "Enter another number30000\n",
      "B is Maximum\n"
     ]
    }
   ],
   "source": [
    "a = int(input(\"Enter a number\"))\n",
    "b = int(input(\"Enter another number\"))\n",
    "if a>b:\n",
    "    print(\"A is Maximum\")\n",
    "else:\n",
    "    print(\"B is Maximum\")"
   ]
  },
  {
   "cell_type": "markdown",
   "metadata": {},
   "source": [
    "<h4>3.</h4>"
   ]
  },
  {
   "cell_type": "code",
   "execution_count": 4,
   "metadata": {},
   "outputs": [
    {
     "name": "stdout",
     "output_type": "stream",
     "text": [
      "Enter a number5\n",
      "Factorial = 120\n"
     ]
    }
   ],
   "source": [
    "def fact(n):\n",
    "    if n==0 or n==1:\n",
    "        return 1\n",
    "    else:\n",
    "        return n*fact(n-1)\n",
    "\n",
    "\n",
    "a = int(input(\"Enter a number\"))\n",
    "facto = fact(a)\n",
    "print(\"Factorial =\",factoa = int(input(\"Enter a number\"))\n",
    "b = int(input(\"Enter another number\")))\n"
   ]
  },
  {
   "cell_type": "markdown",
   "metadata": {},
   "source": [
    "<h4>4.</h4>"
   ]
  },
  {
   "cell_type": "code",
   "execution_count": 7,
   "metadata": {},
   "outputs": [
    {
     "name": "stdout",
     "output_type": "stream",
     "text": [
      "Enter Pricipal: 100\n",
      "Enter No of years: 2\n",
      "Enter rate percent: 4\n",
      "Simple Interest is:  8.0\n",
      "Amount after Interest is:  108.0\n"
     ]
    }
   ],
   "source": [
    "p = float(input(\"Enter Pricipal: \"))\n",
    "n = int(input(\"Enter No of years: \"))\n",
    "r = float(input(\"Enter rate percent: \"))\n",
    "si = (p*n*r)/100\n",
    "amt = p+si\n",
    "print(\"Simple Interest is: \",si)\n",
    "print(\"Amount after Interest is: \",amt)"
   ]
  },
  {
   "cell_type": "markdown",
   "metadata": {},
   "source": [
    "<h4>5.</h4>"
   ]
  },
  {
   "cell_type": "code",
   "execution_count": 7,
   "metadata": {},
   "outputs": [
    {
     "name": "stdout",
     "output_type": "stream",
     "text": [
      "Enter Pricipal: 100\n",
      "No of times Interest is compounded per year: 1\n",
      "Enter No of years: 2\n",
      "Enter rate percent: 4\n",
      "Compund Interest is :  2400.0\n",
      "Amount after Interest is: 2500.0\n"
     ]
    }
   ],
   "source": [
    "p = float(input(\"Enter Pricipal: \"))\n",
    "n = int(input(\"No of times Interest is compounded per year: \"))\n",
    "t = int(input(\"Enter No of years: \"))\n",
    "r = float(input(\"Enter rate percent: \"))\n",
    "div = r//n\n",
    "nt = n*t\n",
    "div1 = 1+div\n",
    "div2 = div1 ** nt\n",
    "amt = p*div2\n",
    "i = amt - p\n",
    "print(\"Compund Interest is : \",i)\n",
    "print(\"Amount after Interest is:\" , amt)\n",
    "\n",
    "\n"
   ]
  },
  {
   "cell_type": "markdown",
   "metadata": {},
   "source": [
    "<h4>6.</h4>"
   ]
  },
  {
   "cell_type": "code",
   "execution_count": 6,
   "metadata": {},
   "outputs": [
    {
     "name": "stdout",
     "output_type": "stream",
     "text": [
      "Enter the number:153\n",
      "The entered number is Armstrong number.\n"
     ]
    }
   ],
   "source": [
    "num = int(input(\"Enter the number:\")) \n",
    "temp = num \n",
    "sum = 0 \n",
    "power = len(str(num)) \n",
    "while temp > 0: \n",
    "    digit = temp % 10 \n",
    "    sum = sum + digit ** power \n",
    "    temp = temp // 10 \n",
    "if num == sum: \n",
    "    print(\"The entered number is Armstrong number.\") \n",
    "else: \n",
    "    print(\"Entered number is not a armstrong number\")"
   ]
  },
  {
   "cell_type": "markdown",
   "metadata": {},
   "source": [
    "<h4>7.</h4>"
   ]
  },
  {
   "cell_type": "code",
   "execution_count": 8,
   "metadata": {},
   "outputs": [
    {
     "name": "stdout",
     "output_type": "stream",
     "text": [
      "Enter the radius: 2\n",
      "Area of the circle is:  12.566370614359172\n"
     ]
    }
   ],
   "source": [
    "import math\n",
    "r = int(input(\"Enter the radius: \"))\n",
    "pi = math.pi\n",
    "area = pi*r*r\n",
    "print(\"Area of the circle is: \",area)"
   ]
  },
  {
   "cell_type": "markdown",
   "metadata": {},
   "source": [
    "<h4>8.</h4>"
   ]
  },
  {
   "cell_type": "code",
   "execution_count": 14,
   "metadata": {},
   "outputs": [
    {
     "name": "stdout",
     "output_type": "stream",
     "text": [
      "Enter the first number:5\n",
      "Enter the Second Number:20\n",
      "Prime Number 5\n",
      "Prime Number 7\n",
      "Prime Number 11\n",
      "Prime Number 13\n",
      "Prime Number 17\n",
      "Prime Number 19\n"
     ]
    }
   ],
   "source": [
    "first = int(input(\"Enter the first number:\"))\n",
    "second = int(input(\"Enter the Second Number:\"))\n",
    "for i in range(first, second):\n",
    "    for j in range(2, i//2):\n",
    "        if i % j == 0:\n",
    "            break\n",
    "    else:\n",
    "        print(\"Prime Number\", i)\n",
    "\n"
   ]
  },
  {
   "cell_type": "markdown",
   "metadata": {},
   "source": [
    "<h4>9.</h4>"
   ]
  },
  {
   "cell_type": "code",
   "execution_count": 19,
   "metadata": {},
   "outputs": [
    {
     "name": "stdout",
     "output_type": "stream",
     "text": [
      " Please Enter any Number: 100\n",
      " 100 is not a Prime Number\n"
     ]
    }
   ],
   "source": [
    "Number = int(input(\" Please Enter any Number: \"))\n",
    "count = 0\n",
    "\n",
    "for i in range(2, (Number//2 + 1)):\n",
    "    if(Number % i == 0):\n",
    "        count = count + 1\n",
    "        break\n",
    "\n",
    "if (count == 0 and Number != 1):\n",
    "    print(\" %d is a Prime Number\" %Number)\n",
    "else:\n",
    "    print(\" %d is not a Prime Number\" %Number)"
   ]
  },
  {
   "cell_type": "markdown",
   "metadata": {},
   "source": [
    "<h4>10.</h4>"
   ]
  },
  {
   "cell_type": "code",
   "execution_count": 3,
   "metadata": {},
   "outputs": [
    {
     "name": "stdout",
     "output_type": "stream",
     "text": [
      "Enter the term: 10\n",
      "The 10 th fibonacci number is  34\n"
     ]
    }
   ],
   "source": [
    "n = int(input(\"Enter the term: \"))\n",
    "first = 0\n",
    "second = 1\n",
    "for i in range(2,n):\n",
    "    c = first+second\n",
    "    first = second\n",
    "    second = c\n",
    "    \n",
    "print(\"The\",n,\"th fibonacci number is \",c)"
   ]
  },
  {
   "cell_type": "markdown",
   "metadata": {},
   "source": [
    "<h4>11.</h4>"
   ]
  },
  {
   "cell_type": "code",
   "execution_count": 7,
   "metadata": {},
   "outputs": [
    {
     "name": "stdout",
     "output_type": "stream",
     "text": [
      "Enter a number: 4\n",
      "The number 4 doesnot exist\n"
     ]
    }
   ],
   "source": [
    "first = 0\n",
    "second = 1\n",
    "n = int(input(\"Enter a number: \"))\n",
    "fiblist = [0,1]\n",
    "for i in range(2,1000):\n",
    "    c = first+second\n",
    "    first = second\n",
    "    second = c\n",
    "    fiblist.append(c)\n",
    "    \n",
    "if(n in fiblist):\n",
    "    print(\"The number\",n,\"exists\")\n",
    "else:\n",
    "    print(\"The number\",n,\"doesnot exist\")\n",
    "    \n"
   ]
  },
  {
   "cell_type": "markdown",
   "metadata": {},
   "source": [
    "<h4>12.</h4>"
   ]
  },
  {
   "cell_type": "code",
   "execution_count": 8,
   "metadata": {},
   "outputs": [
    {
     "name": "stdout",
     "output_type": "stream",
     "text": [
      "Enter the multiple: 4\n",
      "Enter the number whose multiple has to be found: 5\n",
      "Position of n'th multiple of k inFibonacci Seires is 20\n"
     ]
    }
   ],
   "source": [
    "def findPosition(k, n): \n",
    "    f1 = 0\n",
    "    f2 = 1\n",
    "    i =2;  \n",
    "    while i!=0: \n",
    "        f3 = f1 + f2; \n",
    "        f1 = f2; \n",
    "        f2 = f3; \n",
    "  \n",
    "        if f2%k == 0: \n",
    "            return n*i \n",
    "  \n",
    "        i+=1\n",
    "          \n",
    "    return \n",
    "  \n",
    "  \n",
    "\n",
    "n = int(input(\"Enter the multiple: \")) \n",
    "\n",
    "k = int(input(\"Enter the number whose multiple has to be found: \"))\n",
    "  \n",
    "print(\"Position of n\\'th multiple of k in\"\n",
    "                \"Fibonacci Seires is\", findPosition(k,n)); \n",
    "  "
   ]
  },
  {
   "cell_type": "markdown",
   "metadata": {},
   "source": [
    "<h4>13.</h4>"
   ]
  },
  {
   "cell_type": "code",
   "execution_count": 11,
   "metadata": {},
   "outputs": [
    {
     "name": "stdout",
     "output_type": "stream",
     "text": [
      "Enter a letter: A\n",
      "The ASCII value is  65\n"
     ]
    }
   ],
   "source": [
    "char = input(\"Enter a letter: \")\n",
    "print(\"The ASCII value is \",ord(char))"
   ]
  },
  {
   "cell_type": "markdown",
   "metadata": {},
   "source": [
    "<h4>14.</h4>"
   ]
  },
  {
   "cell_type": "code",
   "execution_count": 10,
   "metadata": {},
   "outputs": [
    {
     "name": "stdout",
     "output_type": "stream",
     "text": [
      "Enter the term: 5\n",
      "55.0\n"
     ]
    }
   ],
   "source": [
    "n = int(input(\"Enter the term: \"))\n",
    "ans = n*(n+1)*((2*n)+1)\n",
    "fin = ans/6\n",
    "print(fin)"
   ]
  },
  {
   "cell_type": "markdown",
   "metadata": {},
   "source": [
    "<h4>15.</h4>"
   ]
  },
  {
   "cell_type": "code",
   "execution_count": 14,
   "metadata": {},
   "outputs": [
    {
     "name": "stdout",
     "output_type": "stream",
     "text": [
      "Enter the term: 5\n",
      "225.0\n"
     ]
    }
   ],
   "source": [
    "n = int(input(\"Enter the term: \"))\n",
    "ans = (n*(n+1))/2\n",
    "print(ans*ans)"
   ]
  },
  {
   "cell_type": "code",
   "execution_count": null,
   "metadata": {},
   "outputs": [],
   "source": []
  }
 ],
 "metadata": {
  "kernelspec": {
   "display_name": "Python 3",
   "language": "python",
   "name": "python3"
  },
  "language_info": {
   "codemirror_mode": {
    "name": "ipython",
    "version": 3
   },
   "file_extension": ".py",
   "mimetype": "text/x-python",
   "name": "python",
   "nbconvert_exporter": "python",
   "pygments_lexer": "ipython3",
   "version": "3.8.5"
  }
 },
 "nbformat": 4,
 "nbformat_minor": 4
}
